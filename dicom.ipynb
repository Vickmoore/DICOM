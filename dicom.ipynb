{
 "cells": [
  {
   "cell_type": "code",
   "execution_count": 22,
   "metadata": {},
   "outputs": [],
   "source": [
    "import os\n",
    "import shutil\n",
    "import pydicom\n",
    "import warnings\n",
    "import logging"
   ]
  },
  {
   "cell_type": "code",
   "execution_count": 23,
   "metadata": {},
   "outputs": [],
   "source": [
    "warnings.filterwarnings(\"ignore\", category=UserWarning, module='pydicom')"
   ]
  },
  {
   "cell_type": "code",
   "execution_count": 24,
   "metadata": {},
   "outputs": [],
   "source": [
    "data_folder = 'C:/Users/USER/Desktop/data'\n",
    "output_folder = 'sorted_data'"
   ]
  },
  {
   "cell_type": "code",
   "execution_count": 25,
   "metadata": {},
   "outputs": [
    {
     "name": "stdout",
     "output_type": "stream",
     "text": []
    }
   ],
   "source": [
    "def print_dicom_attributes(file_path):\n",
    "    try:\n",
    "        dicom_data = pydicom.dcmread(file_path)\n",
    "        print(f\"Attributes for {file_path}:\")\n",
    "        for elem in dicom_data:\n",
    "            print(f\"{elem.tag}: {elem.name} ({elem.VR}): {elem.value}\")\n",
    "    except Exception as e:\n",
    "        print(f\"Error reading {file_path}: {e}\")\n",
    "\n",
    "for file_name in os.listdir(data_folder):\n",
    "    if file_name.endswith('.dcm'):\n",
    "        file_path = os.path.join(data_folder, file_name)\n",
    "        print_dicom_attributes(file_path)"
   ]
  },
  {
   "cell_type": "code",
   "execution_count": 26,
   "metadata": {},
   "outputs": [],
   "source": [
    "def create_dir(path):\n",
    "    try:\n",
    "        if not os.path.exists(path):\n",
    "            os.makedirs(path)\n",
    "            logging.info(f\"Created directory {path}\")\n",
    "    except Exception as e:\n",
    "        logging.error(f\"Error creating directory {path}: {e}\")"
   ]
  },
  {
   "cell_type": "code",
   "execution_count": 27,
   "metadata": {},
   "outputs": [],
   "source": [
    "def modify_filename(filename):\n",
    "    return filename.replace(':', '_').replace('\\\\', '_').replace('/', '_').replace('?', '_').replace('*', '_')"
   ]
  },
  {
   "cell_type": "code",
   "execution_count": 28,
   "metadata": {},
   "outputs": [
    {
     "name": "stderr",
     "output_type": "stream",
     "text": [
      "ERROR:root:Error processing 23.dcm.dcm: [Errno 2] No such file or directory: 'sorted_data\\\\MG\\\\BREAST\\\\234441..\\\\23.dcm.dcm'\n",
      "ERROR:root:Error processing 24.dcm.dcm: [Errno 2] No such file or directory: 'sorted_data\\\\MG\\\\BREAST\\\\234441..\\\\24.dcm.dcm'\n",
      "ERROR:root:Error processing 25.dcm.dcm: [Errno 2] No such file or directory: 'sorted_data\\\\MG\\\\BREAST\\\\247868..\\\\25.dcm.dcm'\n",
      "ERROR:root:Error processing 26.dcm.dcm: [Errno 2] No such file or directory: 'sorted_data\\\\MG\\\\BREAST\\\\247868..\\\\26.dcm.dcm'\n"
     ]
    }
   ],
   "source": [
    "def get_unique_filename(folder_path, file_name):\n",
    "    base, ext = os.path.splitext(file_name)\n",
    "    counter = 1\n",
    "    new_file_name = file_name\n",
    "    while os.path.exists(os.path.join(folder_path, new_file_name)):\n",
    "        new_file_name = f\"{base}_{counter}{ext}\"\n",
    "        counter += 1\n",
    "    return new_file_name\n",
    "\n",
    "for file_name in os.listdir(data_folder):\n",
    "    if file_name.endswith('.dcm'):\n",
    "        file_path = os.path.join(data_folder, file_name)\n",
    "        try:\n",
    "            dicom_data = pydicom.dcmread(file_path)\n",
    "\n",
    "            # Extract and sanitize metadata\n",
    "            modality = modify_filename(dicom_data.Modality)\n",
    "            body_part = modify_filename(dicom_data.BodyPartExamined)\n",
    "            patient_id = modify_filename(dicom_data.PatientID)\n",
    "\n",
    "            # Define folder paths\n",
    "            modality_folder = os.path.join(output_folder, modality)\n",
    "            body_part_folder = os.path.join(modality_folder, body_part)\n",
    "            patient_folder = os.path.join(body_part_folder, patient_id)\n",
    "\n",
    "            # Create the required directories\n",
    "            create_dir(patient_folder)\n",
    "\n",
    "            # Ensure the file exists before moving\n",
    "            if not os.path.exists(file_path):\n",
    "                logging.error(f\"File {file_path} does not exist\")\n",
    "                continue\n",
    "\n",
    "            # Move the file to the new directory\n",
    "            dest_file_name = get_unique_filename(patient_folder, file_name)\n",
    "            dest_path = os.path.join(patient_folder, dest_file_name)\n",
    "            shutil.move(file_path, dest_path)\n",
    "            logging.info(f\"Moved {file_name} to {dest_path}\")\n",
    "\n",
    "        except Exception as e:\n",
    "            logging.error(f\"Error processing {file_name}: {e}\")\n",
    "\n",
    "logging.info(\"Sorting complete!\")"
   ]
  },
  {
   "cell_type": "code",
   "execution_count": null,
   "metadata": {},
   "outputs": [],
   "source": []
  }
 ],
 "metadata": {
  "kernelspec": {
   "display_name": "base",
   "language": "python",
   "name": "python3"
  },
  "language_info": {
   "codemirror_mode": {
    "name": "ipython",
    "version": 3
   },
   "file_extension": ".py",
   "mimetype": "text/x-python",
   "name": "python",
   "nbconvert_exporter": "python",
   "pygments_lexer": "ipython3",
   "version": "3.10.9"
  }
 },
 "nbformat": 4,
 "nbformat_minor": 2
}
